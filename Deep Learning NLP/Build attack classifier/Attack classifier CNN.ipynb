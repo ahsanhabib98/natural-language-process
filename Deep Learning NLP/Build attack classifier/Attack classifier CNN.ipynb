{
 "cells": [
  {
   "cell_type": "code",
   "execution_count": 1,
   "metadata": {},
   "outputs": [],
   "source": [
    "from __future__ import print_function, division\n",
    "from builtins import range"
   ]
  },
  {
   "cell_type": "code",
   "execution_count": 2,
   "metadata": {},
   "outputs": [],
   "source": [
    "import warnings\n",
    "warnings.filterwarnings('ignore')"
   ]
  },
  {
   "cell_type": "code",
   "execution_count": 3,
   "metadata": {},
   "outputs": [],
   "source": [
    "import os\n",
    "import sys\n",
    "import numpy as np\n",
    "import pandas as pd\n",
    "import matplotlib.pyplot as plt\n",
    "from keras.preprocessing.text import Tokenizer\n",
    "from keras.preprocessing.sequence import pad_sequences\n",
    "from keras.layers import Dense, Input, GlobalMaxPool1D\n",
    "from keras.layers import Conv1D, MaxPooling1D, Embedding\n",
    "from keras.models import Model\n",
    "from sklearn.metrics import roc_auc_score"
   ]
  },
  {
   "cell_type": "code",
   "execution_count": 4,
   "metadata": {},
   "outputs": [],
   "source": [
    "MAX_SEQUENCE_LENGTH = 200\n",
    "MAX_VOCAB_SIZE = 20000\n",
    "EMBEDDING_DIM = 100\n",
    "VALIDATION_SPLIT = 0.2\n",
    "BATCH_SIZE = 128\n",
    "EPOCHS = 100"
   ]
  },
  {
   "cell_type": "code",
   "execution_count": 5,
   "metadata": {},
   "outputs": [
    {
     "name": "stdout",
     "output_type": "stream",
     "text": [
      "Loading word vectors...\n",
      "Found 400000 word vectors.\n"
     ]
    }
   ],
   "source": [
    "# load in pre-tained word vectors\n",
    "print(\"Loading word vectors...\")\n",
    "word2vec = {}\n",
    "with open(os.path.join('data/glove.6B.%sd.txt' % EMBEDDING_DIM)) as f:\n",
    "    for line in f:\n",
    "        values = line.split()\n",
    "        word = values[0]\n",
    "        vec = np.asarray(values[1:], dtype='float32')\n",
    "        word2vec[word] = vec\n",
    "print('Found %s word vectors.' % len(word2vec))"
   ]
  },
  {
   "cell_type": "code",
   "execution_count": 6,
   "metadata": {},
   "outputs": [
    {
     "name": "stdout",
     "output_type": "stream",
     "text": [
      "Loading in data...\n"
     ]
    }
   ],
   "source": [
    "# prepare the text smaples and their labels\n",
    "print('Loading in data...')\n",
    "\n",
    "attack_data = pd.read_csv('data/attackset.csv')\n",
    "sentences = attack_data['Web Description'].fillna('DUMMY_VALUE').values\n",
    "possible_labels = ['Bruteforce', 'DoS', 'insider', 'phishing', 'ransomware', 'Trojan', 'Web']\n",
    "targets = attack_data[possible_labels].values"
   ]
  },
  {
   "cell_type": "code",
   "execution_count": 7,
   "metadata": {},
   "outputs": [],
   "source": [
    "# convert the sentences into integers\n",
    "tokenizer = Tokenizer(num_words=MAX_VOCAB_SIZE)\n",
    "tokenizer.fit_on_texts(sentences)\n",
    "sequences = tokenizer.texts_to_sequences(sentences)"
   ]
  },
  {
   "cell_type": "code",
   "execution_count": 8,
   "metadata": {},
   "outputs": [
    {
     "name": "stdout",
     "output_type": "stream",
     "text": [
      "max sequence length:  3297\n",
      "min sequence length:  32\n",
      "median sequence length:  106\n",
      "max word index:  4169\n"
     ]
    }
   ],
   "source": [
    "print('max sequence length: ', max(len(s) for s in sentences))\n",
    "print('min sequence length: ', min(len(s) for s in sentences))\n",
    "s = sorted(len(s) for s in sequences)\n",
    "print('median sequence length: ', s[len(s) // 2])\n",
    "print('max word index: ', max(max(seq) for seq in sequences if len(seq) > 0))"
   ]
  },
  {
   "cell_type": "code",
   "execution_count": 9,
   "metadata": {},
   "outputs": [
    {
     "name": "stdout",
     "output_type": "stream",
     "text": [
      "Found 4169 unique tokens.\n"
     ]
    }
   ],
   "source": [
    "# get word -> integer mapping\n",
    "word2idx = tokenizer.word_index\n",
    "print('Found %s unique tokens.' % len(word2idx))"
   ]
  },
  {
   "cell_type": "code",
   "execution_count": 10,
   "metadata": {},
   "outputs": [
    {
     "name": "stdout",
     "output_type": "stream",
     "text": [
      "Shape of data tensor:  (785, 200)\n"
     ]
    }
   ],
   "source": [
    "# pad sequence so that we get N x T matrix\n",
    "data = pad_sequences(sequences, maxlen=MAX_SEQUENCE_LENGTH)\n",
    "print('Shape of data tensor: ', data.shape)"
   ]
  },
  {
   "cell_type": "code",
   "execution_count": 11,
   "metadata": {},
   "outputs": [
    {
     "name": "stdout",
     "output_type": "stream",
     "text": [
      "Filling pre-trained embeddings...\n"
     ]
    }
   ],
   "source": [
    "# prepare embedding matrix\n",
    "print('Filling pre-trained embeddings...')\n",
    "num_words = min(MAX_VOCAB_SIZE, len(word2idx) +1)\n",
    "embedding_matrix = np.zeros((num_words, EMBEDDING_DIM))\n",
    "for word, i in word2idx.items():\n",
    "    if i < MAX_VOCAB_SIZE:\n",
    "        embedding_vector = word2vec.get(word)\n",
    "        if embedding_vector is not None:\n",
    "            # words not found in embedding index will be all zeros\n",
    "            embedding_matrix[i] = embedding_vector"
   ]
  },
  {
   "cell_type": "code",
   "execution_count": 12,
   "metadata": {},
   "outputs": [],
   "source": [
    "from sklearn.model_selection import train_test_split    \n",
    "from sklearn.preprocessing import MinMaxScaler"
   ]
  },
  {
   "cell_type": "code",
   "execution_count": 13,
   "metadata": {},
   "outputs": [],
   "source": [
    "X_train, X_test, y_train, y_test = train_test_split(data, targets, test_size=VALIDATION_SPLIT, random_state=101)"
   ]
  },
  {
   "cell_type": "code",
   "execution_count": 14,
   "metadata": {},
   "outputs": [],
   "source": [
    "# load pre-trained word embeddings into an Embedding layer\n",
    "# note that we set trainable = False so as to keep the embeddings fixed\n",
    "embedding_layer = Embedding(\n",
    "    num_words,\n",
    "    EMBEDDING_DIM,\n",
    "    weights=[embedding_matrix],\n",
    "    input_length=MAX_SEQUENCE_LENGTH,\n",
    "    trainable=False\n",
    ")"
   ]
  },
  {
   "cell_type": "code",
   "execution_count": 15,
   "metadata": {},
   "outputs": [
    {
     "name": "stdout",
     "output_type": "stream",
     "text": [
      "Building model...\n",
      "--- 0.25780534744262695 seconds ---\n"
     ]
    }
   ],
   "source": [
    "print('Building model...')\n",
    "import time\n",
    "start_time = time.time()\n",
    "input_ = Input(shape=(MAX_SEQUENCE_LENGTH,))\n",
    "x = embedding_layer(input_)\n",
    "x = Conv1D(128, 3, activation='relu')(x)\n",
    "# x = MaxPooling1D(3)(x)\n",
    "# x = Conv1D(128, 3, activation='relu')(x)\n",
    "# x = MaxPooling1D(3)(x)\n",
    "# x = Conv1D(128, 3, activation='relu')(x)\n",
    "x = GlobalMaxPool1D()(x)\n",
    "# x = Dense(128, activation='relu')(x)\n",
    "output = Dense(len(possible_labels), activation='sigmoid')(x)\n",
    "print(\"--- %s seconds ---\" % (time.time() - start_time))"
   ]
  },
  {
   "cell_type": "code",
   "execution_count": 16,
   "metadata": {},
   "outputs": [
    {
     "name": "stdout",
     "output_type": "stream",
     "text": [
      "--- 0.07996106147766113 seconds ---\n"
     ]
    }
   ],
   "source": [
    "start_time = time.time()\n",
    "model = Model(input_, output)\n",
    "model.compile(\n",
    "    loss='binary_crossentropy',\n",
    "    optimizer='rmsprop',\n",
    "    metrics=['accuracy']\n",
    ")\n",
    "print(\"--- %s seconds ---\" % (time.time() - start_time))"
   ]
  },
  {
   "cell_type": "code",
   "execution_count": 17,
   "metadata": {},
   "outputs": [
    {
     "data": {
      "image/png": "[encoded data removed]",
      "text/plain": [
       "<IPython.core.display.Image object>"
      ]
     },
     "execution_count": 17,
     "metadata": {},
     "output_type": "execute_result"
    }
   ],
   "source": [
    "from keras.utils.vis_utils import plot_model\n",
    "plot_model(model, to_file='model_plot_cnn.png')"
   ]
  },
  {
   "cell_type": "code",
   "execution_count": 18,
   "metadata": {},
   "outputs": [
    {
     "name": "stdout",
     "output_type": "stream",
     "text": [
      "Training model...\n",
      "Epoch 1/100\n",
      "5/5 [==============================] - 10s 1s/step - loss: 0.4002 - accuracy: 0.3766 - val_loss: 0.2611 - val_accuracy: 0.5860\n",
      "Epoch 2/100\n",
      "5/5 [==============================] - 2s 369ms/step - loss: 0.2437 - accuracy: 0.6543 - val_loss: 0.2176 - val_accuracy: 0.7643\n",
      "Epoch 3/100\n",
      "5/5 [==============================] - 2s 347ms/step - loss: 0.2047 - accuracy: 0.7883 - val_loss: 0.1972 - val_accuracy: 0.7516\n",
      "Epoch 4/100\n",
      "5/5 [==============================] - 2s 372ms/step - loss: 0.1951 - accuracy: 0.7794 - val_loss: 0.1825 - val_accuracy: 0.8089\n",
      "Epoch 5/100\n",
      "5/5 [==============================] - 2s 439ms/step - loss: 0.1778 - accuracy: 0.7988 - val_loss: 0.1706 - val_accuracy: 0.7898\n",
      "Epoch 6/100\n",
      "5/5 [==============================] - 2s 332ms/step - loss: 0.1574 - accuracy: 0.8249 - val_loss: 0.1620 - val_accuracy: 0.8408\n",
      "Epoch 7/100\n",
      "5/5 [==============================] - 1s 315ms/step - loss: 0.1470 - accuracy: 0.8846 - val_loss: 0.1550 - val_accuracy: 0.8535\n",
      "Epoch 8/100\n",
      "5/5 [==============================] - 2s 336ms/step - loss: 0.1385 - accuracy: 0.8778 - val_loss: 0.1495 - val_accuracy: 0.8344\n",
      "Epoch 9/100\n",
      "5/5 [==============================] - 2s 351ms/step - loss: 0.1244 - accuracy: 0.8935 - val_loss: 0.1398 - val_accuracy: 0.8471\n",
      "Epoch 10/100\n",
      "5/5 [==============================] - 2s 322ms/step - loss: 0.1159 - accuracy: 0.8787 - val_loss: 0.1368 - val_accuracy: 0.8408\n",
      "Epoch 11/100\n",
      "5/5 [==============================] - 2s 379ms/step - loss: 0.1191 - accuracy: 0.8718 - val_loss: 0.1282 - val_accuracy: 0.8471\n",
      "Epoch 12/100\n",
      "5/5 [==============================] - 1s 307ms/step - loss: 0.1082 - accuracy: 0.8800 - val_loss: 0.1264 - val_accuracy: 0.8599\n",
      "Epoch 13/100\n",
      "5/5 [==============================] - 2s 375ms/step - loss: 0.1021 - accuracy: 0.8795 - val_loss: 0.1261 - val_accuracy: 0.8662\n",
      "Epoch 14/100\n",
      "5/5 [==============================] - 2s 332ms/step - loss: 0.0949 - accuracy: 0.8892 - val_loss: 0.1181 - val_accuracy: 0.8726\n",
      "Epoch 15/100\n",
      "5/5 [==============================] - 2s 331ms/step - loss: 0.0927 - accuracy: 0.9009 - val_loss: 0.1172 - val_accuracy: 0.8599\n",
      "Epoch 16/100\n",
      "5/5 [==============================] - 2s 362ms/step - loss: 0.0812 - accuracy: 0.9172 - val_loss: 0.1185 - val_accuracy: 0.8726\n",
      "Epoch 17/100\n",
      "5/5 [==============================] - 2s 344ms/step - loss: 0.0872 - accuracy: 0.9171 - val_loss: 0.1108 - val_accuracy: 0.8854\n",
      "Epoch 18/100\n",
      "5/5 [==============================] - 2s 342ms/step - loss: 0.0761 - accuracy: 0.9230 - val_loss: 0.1091 - val_accuracy: 0.8790\n",
      "Epoch 19/100\n",
      "5/5 [==============================] - 2s 328ms/step - loss: 0.0740 - accuracy: 0.9327 - val_loss: 0.1057 - val_accuracy: 0.8854\n",
      "Epoch 20/100\n",
      "5/5 [==============================] - 1s 302ms/step - loss: 0.0740 - accuracy: 0.9334 - val_loss: 0.1053 - val_accuracy: 0.8662\n",
      "Epoch 21/100\n",
      "5/5 [==============================] - 2s 316ms/step - loss: 0.0679 - accuracy: 0.9288 - val_loss: 0.1027 - val_accuracy: 0.8726\n",
      "Epoch 22/100\n",
      "5/5 [==============================] - 1s 321ms/step - loss: 0.0650 - accuracy: 0.9355 - val_loss: 0.1016 - val_accuracy: 0.8854\n",
      "Epoch 23/100\n",
      "5/5 [==============================] - 1s 307ms/step - loss: 0.0621 - accuracy: 0.9416 - val_loss: 0.1019 - val_accuracy: 0.8790\n",
      "Epoch 24/100\n",
      "5/5 [==============================] - 2s 330ms/step - loss: 0.0579 - accuracy: 0.9451 - val_loss: 0.0981 - val_accuracy: 0.8726\n",
      "Epoch 25/100\n",
      "5/5 [==============================] - 2s 358ms/step - loss: 0.0521 - accuracy: 0.9546 - val_loss: 0.1041 - val_accuracy: 0.8599\n",
      "Epoch 26/100\n",
      "5/5 [==============================] - 2s 343ms/step - loss: 0.0507 - accuracy: 0.9777 - val_loss: 0.0992 - val_accuracy: 0.8790\n",
      "Epoch 27/100\n",
      "5/5 [==============================] - 2s 327ms/step - loss: 0.0509 - accuracy: 0.9742 - val_loss: 0.0944 - val_accuracy: 0.8726\n",
      "Epoch 28/100\n",
      "5/5 [==============================] - 2s 349ms/step - loss: 0.0459 - accuracy: 0.9690 - val_loss: 0.0937 - val_accuracy: 0.8854\n",
      "Epoch 29/100\n",
      "5/5 [==============================] - 2s 345ms/step - loss: 0.0408 - accuracy: 0.9862 - val_loss: 0.0964 - val_accuracy: 0.8790\n",
      "Epoch 30/100\n",
      "5/5 [==============================] - 2s 350ms/step - loss: 0.0493 - accuracy: 0.9577 - val_loss: 0.0906 - val_accuracy: 0.8917\n",
      "Epoch 31/100\n",
      "5/5 [==============================] - 1s 304ms/step - loss: 0.0371 - accuracy: 0.9908 - val_loss: 0.0957 - val_accuracy: 0.8599\n",
      "Epoch 32/100\n",
      "5/5 [==============================] - 1s 320ms/step - loss: 0.0351 - accuracy: 0.9982 - val_loss: 0.1098 - val_accuracy: 0.8089\n",
      "Epoch 33/100\n",
      "5/5 [==============================] - 2s 401ms/step - loss: 0.0405 - accuracy: 0.9946 - val_loss: 0.0981 - val_accuracy: 0.8662\n",
      "Epoch 34/100\n",
      "5/5 [==============================] - 2s 352ms/step - loss: 0.0343 - accuracy: 1.0000 - val_loss: 0.0882 - val_accuracy: 0.8917\n",
      "Epoch 35/100\n",
      "5/5 [==============================] - 2s 423ms/step - loss: 0.0331 - accuracy: 0.9987 - val_loss: 0.0901 - val_accuracy: 0.8790\n",
      "Epoch 36/100\n",
      "5/5 [==============================] - 2s 395ms/step - loss: 0.0308 - accuracy: 0.9995 - val_loss: 0.0915 - val_accuracy: 0.8599\n",
      "Epoch 37/100\n",
      "5/5 [==============================] - 2s 421ms/step - loss: 0.0266 - accuracy: 1.0000 - val_loss: 0.0947 - val_accuracy: 0.8599\n",
      "Epoch 38/100\n",
      "5/5 [==============================] - 2s 390ms/step - loss: 0.0272 - accuracy: 1.0000 - val_loss: 0.0872 - val_accuracy: 0.8917\n",
      "Epoch 39/100\n",
      "5/5 [==============================] - 2s 357ms/step - loss: 0.0253 - accuracy: 1.0000 - val_loss: 0.0887 - val_accuracy: 0.8599\n",
      "Epoch 40/100\n",
      "5/5 [==============================] - 1s 299ms/step - loss: 0.0277 - accuracy: 0.9953 - val_loss: 0.0863 - val_accuracy: 0.8917\n",
      "Epoch 41/100\n",
      "5/5 [==============================] - 2s 371ms/step - loss: 0.0206 - accuracy: 1.0000 - val_loss: 0.0864 - val_accuracy: 0.8790\n",
      "Epoch 42/100\n",
      "5/5 [==============================] - 2s 435ms/step - loss: 0.0203 - accuracy: 1.0000 - val_loss: 0.0890 - val_accuracy: 0.8662\n",
      "Epoch 43/100\n",
      "5/5 [==============================] - 2s 398ms/step - loss: 0.0210 - accuracy: 1.0000 - val_loss: 0.0851 - val_accuracy: 0.8981\n",
      "Epoch 44/100\n",
      "5/5 [==============================] - 2s 354ms/step - loss: 0.0178 - accuracy: 1.0000 - val_loss: 0.0896 - val_accuracy: 0.8726\n",
      "Epoch 45/100\n",
      "5/5 [==============================] - 2s 334ms/step - loss: 0.0192 - accuracy: 1.0000 - val_loss: 0.0879 - val_accuracy: 0.8981\n",
      "Epoch 46/100\n",
      "5/5 [==============================] - 1s 295ms/step - loss: 0.0158 - accuracy: 1.0000 - val_loss: 0.0855 - val_accuracy: 0.8917\n",
      "Epoch 47/100\n",
      "5/5 [==============================] - 2s 323ms/step - loss: 0.0155 - accuracy: 1.0000 - val_loss: 0.0852 - val_accuracy: 0.8790\n",
      "Epoch 48/100\n",
      "5/5 [==============================] - 2s 317ms/step - loss: 0.0148 - accuracy: 1.0000 - val_loss: 0.0881 - val_accuracy: 0.8599\n",
      "Epoch 49/100\n",
      "5/5 [==============================] - 2s 370ms/step - loss: 0.0154 - accuracy: 1.0000 - val_loss: 0.0841 - val_accuracy: 0.8854\n",
      "Epoch 50/100\n",
      "5/5 [==============================] - 2s 369ms/step - loss: 0.0120 - accuracy: 1.0000 - val_loss: 0.0882 - val_accuracy: 0.8662\n",
      "Epoch 51/100\n",
      "5/5 [==============================] - 2s 435ms/step - loss: 0.0122 - accuracy: 1.0000 - val_loss: 0.0840 - val_accuracy: 0.8917\n",
      "Epoch 52/100\n",
      "5/5 [==============================] - 2s 384ms/step - loss: 0.0113 - accuracy: 1.0000 - val_loss: 0.0885 - val_accuracy: 0.8726\n",
      "Epoch 53/100\n",
      "5/5 [==============================] - 2s 429ms/step - loss: 0.0122 - accuracy: 1.0000 - val_loss: 0.0839 - val_accuracy: 0.8981\n",
      "Epoch 54/100\n",
      "5/5 [==============================] - 2s 423ms/step - loss: 0.0104 - accuracy: 1.0000 - val_loss: 0.0934 - val_accuracy: 0.8917\n",
      "Epoch 55/100\n",
      "5/5 [==============================] - 2s 449ms/step - loss: 0.0106 - accuracy: 1.0000 - val_loss: 0.0858 - val_accuracy: 0.8726\n",
      "Epoch 56/100\n",
      "5/5 [==============================] - 2s 383ms/step - loss: 0.0094 - accuracy: 1.0000 - val_loss: 0.0861 - val_accuracy: 0.8917\n",
      "Epoch 57/100\n",
      "5/5 [==============================] - 2s 337ms/step - loss: 0.0085 - accuracy: 1.0000 - val_loss: 0.0863 - val_accuracy: 0.8917\n",
      "Epoch 58/100\n",
      "5/5 [==============================] - 2s 333ms/step - loss: 0.0081 - accuracy: 1.0000 - val_loss: 0.0852 - val_accuracy: 0.8917\n",
      "Epoch 59/100\n",
      "5/5 [==============================] - 2s 339ms/step - loss: 0.0071 - accuracy: 1.0000 - val_loss: 0.0849 - val_accuracy: 0.8917\n",
      "Epoch 60/100\n",
      "5/5 [==============================] - 2s 362ms/step - loss: 0.0071 - accuracy: 1.0000 - val_loss: 0.0864 - val_accuracy: 0.8917\n",
      "Epoch 61/100\n",
      "5/5 [==============================] - 2s 344ms/step - loss: 0.0069 - accuracy: 1.0000 - val_loss: 0.0895 - val_accuracy: 0.8854\n",
      "Epoch 62/100\n",
      "5/5 [==============================] - 2s 356ms/step - loss: 0.0072 - accuracy: 1.0000 - val_loss: 0.0914 - val_accuracy: 0.8981\n",
      "Epoch 63/100\n",
      "5/5 [==============================] - 2s 394ms/step - loss: 0.0063 - accuracy: 1.0000 - val_loss: 0.0855 - val_accuracy: 0.8854\n",
      "Epoch 64/100\n",
      "5/5 [==============================] - 2s 348ms/step - loss: 0.0053 - accuracy: 1.0000 - val_loss: 0.0867 - val_accuracy: 0.8790\n",
      "Epoch 65/100\n",
      "5/5 [==============================] - 2s 352ms/step - loss: 0.0051 - accuracy: 1.0000 - val_loss: 0.0941 - val_accuracy: 0.8981\n",
      "Epoch 66/100\n",
      "5/5 [==============================] - 2s 338ms/step - loss: 0.0045 - accuracy: 1.0000 - val_loss: 0.0857 - val_accuracy: 0.8726\n",
      "Epoch 67/100\n",
      "5/5 [==============================] - 2s 357ms/step - loss: 0.0047 - accuracy: 1.0000 - val_loss: 0.0930 - val_accuracy: 0.8981\n",
      "Epoch 68/100\n",
      "5/5 [==============================] - 1s 306ms/step - loss: 0.0043 - accuracy: 1.0000 - val_loss: 0.0880 - val_accuracy: 0.8726\n",
      "Epoch 69/100\n",
      "5/5 [==============================] - 2s 329ms/step - loss: 0.0040 - accuracy: 1.0000 - val_loss: 0.0879 - val_accuracy: 0.8790\n",
      "Epoch 70/100\n",
      "5/5 [==============================] - 2s 336ms/step - loss: 0.0034 - accuracy: 1.0000 - val_loss: 0.0904 - val_accuracy: 0.8917\n",
      "Epoch 71/100\n",
      "5/5 [==============================] - 2s 384ms/step - loss: 0.0043 - accuracy: 1.0000 - val_loss: 0.0902 - val_accuracy: 0.8854\n",
      "Epoch 72/100\n",
      "5/5 [==============================] - 2s 373ms/step - loss: 0.0032 - accuracy: 1.0000 - val_loss: 0.0905 - val_accuracy: 0.8854\n",
      "Epoch 73/100\n",
      "5/5 [==============================] - 2s 333ms/step - loss: 0.0030 - accuracy: 1.0000 - val_loss: 0.0917 - val_accuracy: 0.8917\n",
      "Epoch 74/100\n",
      "5/5 [==============================] - 2s 330ms/step - loss: 0.0030 - accuracy: 1.0000 - val_loss: 0.0906 - val_accuracy: 0.8790\n",
      "Epoch 75/100\n",
      "5/5 [==============================] - 2s 354ms/step - loss: 0.0029 - accuracy: 1.0000 - val_loss: 0.0934 - val_accuracy: 0.8917\n",
      "Epoch 76/100\n",
      "5/5 [==============================] - 2s 351ms/step - loss: 0.0028 - accuracy: 1.0000 - val_loss: 0.0913 - val_accuracy: 0.8790\n",
      "Epoch 77/100\n",
      "5/5 [==============================] - 2s 350ms/step - loss: 0.0023 - accuracy: 1.0000 - val_loss: 0.0917 - val_accuracy: 0.8726\n",
      "Epoch 78/100\n",
      "5/5 [==============================] - 2s 351ms/step - loss: 0.0026 - accuracy: 1.0000 - val_loss: 0.1005 - val_accuracy: 0.8981\n",
      "Epoch 79/100\n",
      "5/5 [==============================] - 2s 334ms/step - loss: 0.0025 - accuracy: 1.0000 - val_loss: 0.0913 - val_accuracy: 0.8726\n",
      "Epoch 80/100\n",
      "5/5 [==============================] - 2s 324ms/step - loss: 0.0019 - accuracy: 1.0000 - val_loss: 0.0935 - val_accuracy: 0.8790\n",
      "Epoch 81/100\n",
      "5/5 [==============================] - 2s 364ms/step - loss: 0.0018 - accuracy: 1.0000 - val_loss: 0.0940 - val_accuracy: 0.8917\n",
      "Epoch 82/100\n",
      "5/5 [==============================] - 2s 330ms/step - loss: 0.0020 - accuracy: 1.0000 - val_loss: 0.0955 - val_accuracy: 0.8790\n",
      "Epoch 83/100\n",
      "5/5 [==============================] - 1s 291ms/step - loss: 0.0016 - accuracy: 1.0000 - val_loss: 0.0945 - val_accuracy: 0.8790\n",
      "Epoch 84/100\n",
      "5/5 [==============================] - 2s 329ms/step - loss: 0.0014 - accuracy: 1.0000 - val_loss: 0.0953 - val_accuracy: 0.8790\n",
      "Epoch 85/100\n",
      "5/5 [==============================] - 2s 339ms/step - loss: 0.0013 - accuracy: 1.0000 - val_loss: 0.1002 - val_accuracy: 0.8917\n",
      "Epoch 86/100\n",
      "5/5 [==============================] - 2s 332ms/step - loss: 0.0013 - accuracy: 1.0000 - val_loss: 0.1010 - val_accuracy: 0.8854\n",
      "Epoch 87/100\n",
      "5/5 [==============================] - 2s 392ms/step - loss: 0.0020 - accuracy: 1.0000 - val_loss: 0.0965 - val_accuracy: 0.8790\n",
      "Epoch 88/100\n",
      "5/5 [==============================] - 2s 361ms/step - loss: 0.0011 - accuracy: 1.0000 - val_loss: 0.0971 - val_accuracy: 0.8854\n",
      "Epoch 89/100\n",
      "5/5 [==============================] - 1s 332ms/step - loss: 0.0010 - accuracy: 1.0000 - val_loss: 0.1016 - val_accuracy: 0.8917\n",
      "Epoch 90/100\n",
      "5/5 [==============================] - 2s 403ms/step - loss: 9.6005e-04 - accuracy: 1.0000 - val_loss: 0.0976 - val_accuracy: 0.8790\n",
      "Epoch 91/100\n",
      "5/5 [==============================] - 2s 350ms/step - loss: 8.3487e-04 - accuracy: 1.0000 - val_loss: 0.1050 - val_accuracy: 0.8917\n",
      "Epoch 92/100\n",
      "5/5 [==============================] - 2s 369ms/step - loss: 9.3121e-04 - accuracy: 1.0000 - val_loss: 0.0983 - val_accuracy: 0.8790\n",
      "Epoch 93/100\n",
      "5/5 [==============================] - 2s 377ms/step - loss: 8.3625e-04 - accuracy: 1.0000 - val_loss: 0.1052 - val_accuracy: 0.8917\n",
      "Epoch 94/100\n",
      "5/5 [==============================] - 2s 371ms/step - loss: 0.0011 - accuracy: 1.0000 - val_loss: 0.0995 - val_accuracy: 0.8854\n",
      "Epoch 95/100\n",
      "5/5 [==============================] - 2s 499ms/step - loss: 7.3040e-04 - accuracy: 1.0000 - val_loss: 0.1007 - val_accuracy: 0.8790\n",
      "Epoch 96/100\n",
      "5/5 [==============================] - 2s 335ms/step - loss: 6.0657e-04 - accuracy: 1.0000 - val_loss: 0.1010 - val_accuracy: 0.8790\n",
      "Epoch 97/100\n",
      "5/5 [==============================] - 2s 340ms/step - loss: 5.4835e-04 - accuracy: 1.0000 - val_loss: 0.1014 - val_accuracy: 0.8854\n",
      "Epoch 98/100\n",
      "5/5 [==============================] - 2s 339ms/step - loss: 5.6197e-04 - accuracy: 1.0000 - val_loss: 0.1072 - val_accuracy: 0.8854\n",
      "Epoch 99/100\n",
      "5/5 [==============================] - 2s 334ms/step - loss: 6.9235e-04 - accuracy: 1.0000 - val_loss: 0.1060 - val_accuracy: 0.8854\n",
      "Epoch 100/100\n",
      "5/5 [==============================] - 2s 320ms/step - loss: 5.0864e-04 - accuracy: 1.0000 - val_loss: 0.1091 - val_accuracy: 0.8917\n",
      "--- 175.83411836624146 seconds ---\n"
     ]
    }
   ],
   "source": [
    "print('Training model...')\n",
    "start_time = time.time()\n",
    "r = model.fit(\n",
    "    X_train,y_train,\n",
    "    batch_size=BATCH_SIZE,\n",
    "    epochs=EPOCHS,\n",
    "    validation_data=(X_test, y_test)\n",
    ")\n",
    "print(\"--- %s seconds ---\" % (time.time() - start_time))"
   ]
  },
  {
   "cell_type": "code",
   "execution_count": 19,
   "metadata": {},
   "outputs": [
    {
     "data": {
      "image/png": "[encoded data removed]",
      "text/plain": [
       "<Figure size 432x288 with 1 Axes>"
      ]
     },
     "metadata": {
      "needs_background": "light"
     },
     "output_type": "display_data"
    }
   ],
   "source": [
    "plt.plot(r.history['loss'], label='loss')\n",
    "plt.plot(r.history['val_loss'], label='val_loss')\n",
    "plt.legend()\n",
    "plt.show()"
   ]
  },
  {
   "cell_type": "code",
   "execution_count": 20,
   "metadata": {},
   "outputs": [
    {
     "data": {
      "image/png": "[encoded data removed]",
      "text/plain": [
       "<Figure size 432x288 with 1 Axes>"
      ]
     },
     "metadata": {
      "needs_background": "light"
     },
     "output_type": "display_data"
    }
   ],
   "source": [
    "plt.plot(r.history['accuracy'], label='acc')\n",
    "plt.plot(r.history['val_accuracy'], label='val_acc')\n",
    "plt.legend()\n",
    "plt.show()"
   ]
  },
  {
   "cell_type": "code",
   "execution_count": 21,
   "metadata": {},
   "outputs": [
    {
     "name": "stdout",
     "output_type": "stream",
     "text": [
      "0.9973899262552899\n"
     ]
    }
   ],
   "source": [
    "p = model.predict(data)\n",
    "aucs = []\n",
    "for j in range(6):\n",
    "    auc = roc_auc_score(targets[:,j], p[:,j])\n",
    "    aucs.append(auc)\n",
    "print(np.mean(aucs))"
   ]
  },
  {
   "cell_type": "code",
   "execution_count": 22,
   "metadata": {},
   "outputs": [],
   "source": [
    "from sklearn.metrics import classification_report,confusion_matrix\n",
    "from sklearn.preprocessing import MultiLabelBinarizer"
   ]
  },
  {
   "cell_type": "code",
   "execution_count": 23,
   "metadata": {},
   "outputs": [
    {
     "name": "stdout",
     "output_type": "stream",
     "text": [
      "--- 0.3766820430755615 seconds ---\n"
     ]
    }
   ],
   "source": [
    "start_time = time.time()\n",
    "probability = model.predict(X_test)\n",
    "print(\"--- %s seconds ---\" % (time.time() - start_time))"
   ]
  },
  {
   "cell_type": "code",
   "execution_count": 24,
   "metadata": {},
   "outputs": [],
   "source": [
    "thresh = 0.5\n",
    "predictions = np.array([[1 if i > thresh else 0 for i in j] for j in probability])"
   ]
  },
  {
   "cell_type": "code",
   "execution_count": 25,
   "metadata": {},
   "outputs": [
    {
     "name": "stdout",
     "output_type": "stream",
     "text": [
      "              precision    recall  f1-score   support\n",
      "\n",
      "           0       0.00      0.00      0.00         0\n",
      "           1       0.00      0.00      0.00         0\n",
      "           2       0.00      0.00      0.00         2\n",
      "           3       1.00      1.00      1.00        53\n",
      "           4       0.97      0.78      0.86        41\n",
      "           5       0.00      0.00      0.00         4\n",
      "           6       0.80      0.84      0.82        57\n",
      "\n",
      "   micro avg       0.91      0.85      0.88       157\n",
      "   macro avg       0.40      0.37      0.38       157\n",
      "weighted avg       0.88      0.85      0.86       157\n",
      " samples avg       0.85      0.85      0.85       157\n",
      "\n"
     ]
    }
   ],
   "source": [
    "print(classification_report(y_test,predictions))"
   ]
  },
  {
   "cell_type": "code",
   "execution_count": null,
   "metadata": {},
   "outputs": [],
   "source": []
  }
 ],
 "metadata": {
  "kernelspec": {
   "display_name": "Python 3",
   "language": "python",
   "name": "python3"
  },
  "language_info": {
   "codemirror_mode": {
    "name": "ipython",
    "version": 3
   },
   "file_extension": ".py",
   "mimetype": "text/x-python",
   "name": "python",
   "nbconvert_exporter": "python",
   "pygments_lexer": "ipython3",
   "version": "3.8.5"
  }
 },
 "nbformat": 4,
 "nbformat_minor": 4
}
