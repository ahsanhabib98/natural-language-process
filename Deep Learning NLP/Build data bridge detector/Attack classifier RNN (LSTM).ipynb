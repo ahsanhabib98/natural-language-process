{
 "cells": [
  {
   "cell_type": "code",
   "execution_count": 29,
   "metadata": {},
   "outputs": [],
   "source": [
    "from __future__ import print_function, division\n",
    "from builtins import range"
   ]
  },
  {
   "cell_type": "code",
   "execution_count": 30,
   "metadata": {},
   "outputs": [],
   "source": [
    "import warnings\n",
    "warnings.filterwarnings('ignore')"
   ]
  },
  {
   "cell_type": "code",
   "execution_count": 31,
   "metadata": {
    "scrolled": true
   },
   "outputs": [],
   "source": [
    "import os\n",
    "import sys\n",
    "import numpy as np\n",
    "import pandas as pd\n",
    "import matplotlib.pyplot as plt\n",
    "from keras.preprocessing.text import Tokenizer\n",
    "from keras.preprocessing.sequence import pad_sequences\n",
    "from keras.layers import Dense, Input, Embedding\n",
    "from keras.layers import Conv1D, LSTM, Bidirectional, GlobalMaxPool1D, Dropout\n",
    "from keras.models import Model\n",
    "from keras.optimizers import Adam\n",
    "from sklearn.metrics import roc_auc_score"
   ]
  },
  {
   "cell_type": "code",
   "execution_count": 32,
   "metadata": {},
   "outputs": [],
   "source": [
    "import keras.backend as K"
   ]
  },
  {
   "cell_type": "code",
   "execution_count": 33,
   "metadata": {},
   "outputs": [],
   "source": [
    "# Download the word vectors:\n",
    "# http://nlp.stanford.edu/data/glove.6B.zip"
   ]
  },
  {
   "cell_type": "code",
   "execution_count": 34,
   "metadata": {},
   "outputs": [],
   "source": [
    "MAX_SEQUENCE_LENGTH = 200\n",
    "MAX_VOCAB_SIZE = 20000\n",
    "EMBEDDING_DIM = 100\n",
    "VALIDATION_SPLIT = 0.2\n",
    "BATCH_SIZE = 128\n",
    "EPOCHS = 100"
   ]
  },
  {
   "cell_type": "code",
   "execution_count": 35,
   "metadata": {},
   "outputs": [
    {
     "name": "stdout",
     "output_type": "stream",
     "text": [
      "Loading word vectors...\n",
      "Found 400000 word vectors.\n"
     ]
    }
   ],
   "source": [
    "# load in pre-tained word vectors\n",
    "print(\"Loading word vectors...\")\n",
    "word2vec = {}\n",
    "with open(os.path.join('data/glove.6B.%sd.txt' % EMBEDDING_DIM)) as f:\n",
    "    for line in f:\n",
    "        values = line.split()\n",
    "        word = values[0]\n",
    "        vec = np.asarray(values[1:], dtype='float32')\n",
    "        word2vec[word] = vec\n",
    "print('Found %s word vectors.' % len(word2vec))"
   ]
  },
  {
   "cell_type": "code",
   "execution_count": 36,
   "metadata": {},
   "outputs": [
    {
     "name": "stdout",
     "output_type": "stream",
     "text": [
      "Loading in data...\n"
     ]
    }
   ],
   "source": [
    "# prepare the text smaples and their labels\n",
    "print('Loading in data...')\n",
    "\n",
    "attack_data = pd.read_csv('data/attackset.csv')\n",
    "attack_data = attack_data.sample(frac=1).reset_index(drop=True)\n",
    "sentences = attack_data['Web Description'].fillna('DUMMY_VALUE').values\n",
    "possible_labels = ['Bruteforce', 'DoS', 'insider', 'phishing', 'ransomware', 'Trojan', 'Web']\n",
    "targets = attack_data[possible_labels].values"
   ]
  },
  {
   "cell_type": "code",
   "execution_count": 37,
   "metadata": {},
   "outputs": [],
   "source": [
    "# convert the sentences into integers\n",
    "tokenizer = Tokenizer(num_words=MAX_VOCAB_SIZE)\n",
    "tokenizer.fit_on_texts(sentences)\n",
    "sequences = tokenizer.texts_to_sequences(sentences)"
   ]
  },
  {
   "cell_type": "code",
   "execution_count": 38,
   "metadata": {},
   "outputs": [
    {
     "name": "stdout",
     "output_type": "stream",
     "text": [
      "max sequence length:  3297\n",
      "min sequence length:  32\n",
      "median sequence length:  106\n",
      "max word index:  4169\n"
     ]
    }
   ],
   "source": [
    "print('max sequence length: ', max(len(s) for s in sentences))\n",
    "print('min sequence length: ', min(len(s) for s in sentences))\n",
    "s = sorted(len(s) for s in sequences)\n",
    "print('median sequence length: ', s[len(s) // 2])\n",
    "print('max word index: ', max(max(seq) for seq in sequences if len(seq) > 0))"
   ]
  },
  {
   "cell_type": "code",
   "execution_count": 39,
   "metadata": {},
   "outputs": [
    {
     "name": "stdout",
     "output_type": "stream",
     "text": [
      "Found 4169 unique tokens.\n"
     ]
    }
   ],
   "source": [
    "# get word -> integer mapping\n",
    "word2idx = tokenizer.word_index\n",
    "print('Found %s unique tokens.' % len(word2idx))"
   ]
  },
  {
   "cell_type": "code",
   "execution_count": 40,
   "metadata": {},
   "outputs": [
    {
     "name": "stdout",
     "output_type": "stream",
     "text": [
      "Shape of data tensor:  (785, 200)\n"
     ]
    }
   ],
   "source": [
    "# pad sequence so that we get N x T matrix\n",
    "data = pad_sequences(sequences, maxlen=MAX_SEQUENCE_LENGTH)\n",
    "print('Shape of data tensor: ', data.shape)"
   ]
  },
  {
   "cell_type": "code",
   "execution_count": 41,
   "metadata": {},
   "outputs": [
    {
     "name": "stdout",
     "output_type": "stream",
     "text": [
      "Filling pre-trained embeddings...\n"
     ]
    }
   ],
   "source": [
    "# prepare embedding matrix\n",
    "print('Filling pre-trained embeddings...')\n",
    "num_words = min(MAX_VOCAB_SIZE, len(word2idx) +1)\n",
    "embedding_matrix = np.zeros((num_words, EMBEDDING_DIM))\n",
    "for word, i in word2idx.items():\n",
    "    if i < MAX_VOCAB_SIZE:\n",
    "        embedding_vector = word2vec.get(word)\n",
    "        if embedding_vector is not None:\n",
    "            # words not found in embedding index will be all zeros\n",
    "            embedding_matrix[i] = embedding_vector"
   ]
  },
  {
   "cell_type": "code",
   "execution_count": 42,
   "metadata": {},
   "outputs": [],
   "source": [
    "from sklearn.model_selection import train_test_split    \n",
    "from sklearn.preprocessing import MinMaxScaler"
   ]
  },
  {
   "cell_type": "code",
   "execution_count": 43,
   "metadata": {},
   "outputs": [],
   "source": [
    "X_train, X_test, y_train, y_test = train_test_split(data, targets, test_size=VALIDATION_SPLIT, random_state=101)"
   ]
  },
  {
   "cell_type": "code",
   "execution_count": 44,
   "metadata": {},
   "outputs": [],
   "source": [
    "# load pre-trained word embeddings into an Embedding layer\n",
    "# note that we set trainable = False so as to keep the embeddings fixed\n",
    "embedding_layer = Embedding(\n",
    "    num_words,\n",
    "    EMBEDDING_DIM,\n",
    "    weights=[embedding_matrix],\n",
    "    input_length=MAX_SEQUENCE_LENGTH,\n",
    "    trainable=False\n",
    ")"
   ]
  },
  {
   "cell_type": "code",
   "execution_count": 45,
   "metadata": {},
   "outputs": [],
   "source": [
    "from keras.models import Sequential\n",
    "from keras.layers import Dense, LSTM, Dropout, GRU, Bidirectional, SpatialDropout1D\n",
    "from keras.optimizers import SGD\n",
    "import math\n",
    "from sklearn.metrics import mean_squared_error"
   ]
  },
  {
   "cell_type": "code",
   "execution_count": 46,
   "metadata": {},
   "outputs": [
    {
     "name": "stdout",
     "output_type": "stream",
     "text": [
      "Building model...\n",
      "--- 0.1459348201751709 seconds ---\n"
     ]
    }
   ],
   "source": [
    "print('Building model...')\n",
    "import time\n",
    "start_time = time.time()\n",
    "input_ = Input(shape=(MAX_SEQUENCE_LENGTH,))\n",
    "x = embedding_layer(input_)\n",
    "x = LSTM(15, return_sequences=True)(x)\n",
    "x = GlobalMaxPool1D()(x)\n",
    "# x = Bidirectional(LSTM(15, return_sequences=True))(x)\n",
    "output = Dense(len(possible_labels), activation='sigmoid')(x)\n",
    "print(\"--- %s seconds ---\" % (time.time() - start_time))"
   ]
  },
  {
   "cell_type": "code",
   "execution_count": 47,
   "metadata": {},
   "outputs": [
    {
     "name": "stdout",
     "output_type": "stream",
     "text": [
      "--- 0.006541013717651367 seconds ---\n"
     ]
    }
   ],
   "source": [
    "import time\n",
    "start_time = time.time()\n",
    "model = Model(input_, output)\n",
    "model.compile(\n",
    "    loss='binary_crossentropy',\n",
    "    optimizer=Adam(lr=0.01),\n",
    "    metrics=['accuracy']\n",
    ")\n",
    "print(\"--- %s seconds ---\" % (time.time() - start_time))"
   ]
  },
  {
   "cell_type": "code",
   "execution_count": 48,
   "metadata": {},
   "outputs": [
    {
     "data": {
      "image/png": "[encoded data removed]",
      "text/plain": [
       "<IPython.core.display.Image object>"
      ]
     },
     "execution_count": 48,
     "metadata": {},
     "output_type": "execute_result"
    }
   ],
   "source": [
    "from keras.utils.vis_utils import plot_model\n",
    "plot_model(model, to_file='model_plot_rnn.png')"
   ]
  },
  {
   "cell_type": "code",
   "execution_count": 49,
   "metadata": {},
   "outputs": [
    {
     "name": "stdout",
     "output_type": "stream",
     "text": [
      "Training model...\n",
      "Epoch 1/100\n",
      "5/5 [==============================] - 5s 467ms/step - loss: 0.6462 - accuracy: 0.1099 - val_loss: 0.4856 - val_accuracy: 0.2611\n",
      "Epoch 2/100\n",
      "5/5 [==============================] - 2s 444ms/step - loss: 0.4663 - accuracy: 0.2625 - val_loss: 0.4056 - val_accuracy: 0.2611\n",
      "Epoch 3/100\n",
      "5/5 [==============================] - 3s 559ms/step - loss: 0.3943 - accuracy: 0.2501 - val_loss: 0.3500 - val_accuracy: 0.2675\n",
      "Epoch 4/100\n",
      "5/5 [==============================] - 3s 737ms/step - loss: 0.3457 - accuracy: 0.4257 - val_loss: 0.3142 - val_accuracy: 0.7389\n",
      "Epoch 5/100\n",
      "5/5 [==============================] - 4s 842ms/step - loss: 0.3110 - accuracy: 0.7030 - val_loss: 0.2913 - val_accuracy: 0.6879\n",
      "Epoch 6/100\n",
      "5/5 [==============================] - 2s 441ms/step - loss: 0.2876 - accuracy: 0.6859 - val_loss: 0.2754 - val_accuracy: 0.6879\n",
      "Epoch 7/100\n",
      "5/5 [==============================] - 3s 606ms/step - loss: 0.2797 - accuracy: 0.6565 - val_loss: 0.2659 - val_accuracy: 0.6752\n",
      "Epoch 8/100\n",
      "5/5 [==============================] - 2s 506ms/step - loss: 0.2650 - accuracy: 0.6749 - val_loss: 0.2557 - val_accuracy: 0.6879\n",
      "Epoch 9/100\n",
      "5/5 [==============================] - 3s 571ms/step - loss: 0.2592 - accuracy: 0.6693 - val_loss: 0.2481 - val_accuracy: 0.6943\n",
      "Epoch 10/100\n",
      "5/5 [==============================] - 2s 450ms/step - loss: 0.2529 - accuracy: 0.6776 - val_loss: 0.2417 - val_accuracy: 0.7070\n",
      "Epoch 11/100\n",
      "5/5 [==============================] - 2s 501ms/step - loss: 0.2463 - accuracy: 0.6831 - val_loss: 0.2371 - val_accuracy: 0.6879\n",
      "Epoch 12/100\n",
      "5/5 [==============================] - 3s 537ms/step - loss: 0.2365 - accuracy: 0.6841 - val_loss: 0.2310 - val_accuracy: 0.7197\n",
      "Epoch 13/100\n",
      "5/5 [==============================] - 3s 660ms/step - loss: 0.2328 - accuracy: 0.7032 - val_loss: 0.2257 - val_accuracy: 0.7261\n",
      "Epoch 14/100\n",
      "5/5 [==============================] - 4s 856ms/step - loss: 0.2250 - accuracy: 0.7163 - val_loss: 0.2211 - val_accuracy: 0.7389\n",
      "Epoch 15/100\n",
      "5/5 [==============================] - 3s 657ms/step - loss: 0.2243 - accuracy: 0.7299 - val_loss: 0.2169 - val_accuracy: 0.7261\n",
      "Epoch 16/100\n",
      "5/5 [==============================] - 3s 568ms/step - loss: 0.2183 - accuracy: 0.7087 - val_loss: 0.2130 - val_accuracy: 0.7261\n",
      "Epoch 17/100\n",
      "5/5 [==============================] - 4s 857ms/step - loss: 0.2062 - accuracy: 0.7423 - val_loss: 0.2087 - val_accuracy: 0.7197\n",
      "Epoch 18/100\n",
      "5/5 [==============================] - 3s 661ms/step - loss: 0.2064 - accuracy: 0.7486 - val_loss: 0.2042 - val_accuracy: 0.7516\n",
      "Epoch 19/100\n",
      "5/5 [==============================] - 3s 596ms/step - loss: 0.2000 - accuracy: 0.7913 - val_loss: 0.2010 - val_accuracy: 0.7580\n",
      "Epoch 20/100\n",
      "5/5 [==============================] - 3s 638ms/step - loss: 0.1926 - accuracy: 0.7893 - val_loss: 0.1966 - val_accuracy: 0.7516\n",
      "Epoch 21/100\n",
      "5/5 [==============================] - 3s 711ms/step - loss: 0.1861 - accuracy: 0.7996 - val_loss: 0.1939 - val_accuracy: 0.7580\n",
      "Epoch 22/100\n",
      "5/5 [==============================] - 4s 930ms/step - loss: 0.1823 - accuracy: 0.8024 - val_loss: 0.1915 - val_accuracy: 0.7643\n",
      "Epoch 23/100\n",
      "5/5 [==============================] - 5s 941ms/step - loss: 0.1792 - accuracy: 0.8152 - val_loss: 0.1874 - val_accuracy: 0.7643\n",
      "Epoch 24/100\n",
      "5/5 [==============================] - 4s 884ms/step - loss: 0.1752 - accuracy: 0.8146 - val_loss: 0.1842 - val_accuracy: 0.8408\n",
      "Epoch 25/100\n",
      "5/5 [==============================] - 4s 679ms/step - loss: 0.1693 - accuracy: 0.8714 - val_loss: 0.1799 - val_accuracy: 0.8344\n",
      "Epoch 26/100\n",
      "5/5 [==============================] - 5s 1s/step - loss: 0.1664 - accuracy: 0.8644 - val_loss: 0.1768 - val_accuracy: 0.8344\n",
      "Epoch 27/100\n",
      "5/5 [==============================] - 4s 773ms/step - loss: 0.1557 - accuracy: 0.8910 - val_loss: 0.1742 - val_accuracy: 0.8662\n",
      "Epoch 28/100\n",
      "5/5 [==============================] - 5s 1s/step - loss: 0.1527 - accuracy: 0.8724 - val_loss: 0.1738 - val_accuracy: 0.8217\n",
      "Epoch 29/100\n",
      "5/5 [==============================] - 6s 1s/step - loss: 0.1575 - accuracy: 0.8605 - val_loss: 0.1700 - val_accuracy: 0.8471\n",
      "Epoch 30/100\n",
      "5/5 [==============================] - 6s 1s/step - loss: 0.1540 - accuracy: 0.8782 - val_loss: 0.1691 - val_accuracy: 0.8599\n",
      "Epoch 31/100\n",
      "5/5 [==============================] - 5s 1s/step - loss: 0.1443 - accuracy: 0.9018 - val_loss: 0.1664 - val_accuracy: 0.8344\n",
      "Epoch 32/100\n",
      "5/5 [==============================] - 4s 822ms/step - loss: 0.1452 - accuracy: 0.8939 - val_loss: 0.1642 - val_accuracy: 0.8535\n",
      "Epoch 33/100\n",
      "5/5 [==============================] - 4s 881ms/step - loss: 0.1362 - accuracy: 0.8866 - val_loss: 0.1637 - val_accuracy: 0.8280\n",
      "Epoch 34/100\n",
      "5/5 [==============================] - 4s 838ms/step - loss: 0.1391 - accuracy: 0.8878 - val_loss: 0.1623 - val_accuracy: 0.8344\n",
      "Epoch 35/100\n",
      "5/5 [==============================] - 7s 1s/step - loss: 0.1307 - accuracy: 0.8980 - val_loss: 0.1608 - val_accuracy: 0.8344\n",
      "Epoch 36/100\n",
      "5/5 [==============================] - 6s 1s/step - loss: 0.1243 - accuracy: 0.9124 - val_loss: 0.1622 - val_accuracy: 0.8280\n",
      "Epoch 37/100\n",
      "5/5 [==============================] - 7s 1s/step - loss: 0.1246 - accuracy: 0.9093 - val_loss: 0.1572 - val_accuracy: 0.8217\n",
      "Epoch 38/100\n",
      "5/5 [==============================] - 5s 1s/step - loss: 0.1202 - accuracy: 0.9064 - val_loss: 0.1575 - val_accuracy: 0.8217\n",
      "Epoch 39/100\n",
      "5/5 [==============================] - 8s 2s/step - loss: 0.1153 - accuracy: 0.9101 - val_loss: 0.1566 - val_accuracy: 0.8471\n",
      "Epoch 40/100\n",
      "5/5 [==============================] - 6s 1s/step - loss: 0.1173 - accuracy: 0.9048 - val_loss: 0.1520 - val_accuracy: 0.8344\n",
      "Epoch 41/100\n",
      "5/5 [==============================] - 6s 1s/step - loss: 0.1043 - accuracy: 0.9257 - val_loss: 0.1572 - val_accuracy: 0.8217\n",
      "Epoch 42/100\n",
      "5/5 [==============================] - 5s 1s/step - loss: 0.1133 - accuracy: 0.9006 - val_loss: 0.1499 - val_accuracy: 0.8408\n",
      "Epoch 43/100\n",
      "5/5 [==============================] - 4s 711ms/step - loss: 0.1032 - accuracy: 0.9227 - val_loss: 0.1548 - val_accuracy: 0.8280\n",
      "Epoch 44/100\n",
      "5/5 [==============================] - 7s 2s/step - loss: 0.1031 - accuracy: 0.9163 - val_loss: 0.1491 - val_accuracy: 0.8471\n",
      "Epoch 45/100\n",
      "5/5 [==============================] - 8s 2s/step - loss: 0.0947 - accuracy: 0.9295 - val_loss: 0.1504 - val_accuracy: 0.8280\n",
      "Epoch 46/100\n",
      "5/5 [==============================] - 6s 1s/step - loss: 0.0877 - accuracy: 0.9337 - val_loss: 0.1467 - val_accuracy: 0.8280\n",
      "Epoch 47/100\n",
      "5/5 [==============================] - 6s 1s/step - loss: 0.0897 - accuracy: 0.9346 - val_loss: 0.1496 - val_accuracy: 0.8089\n",
      "Epoch 48/100\n",
      "5/5 [==============================] - 7s 1s/step - loss: 0.0867 - accuracy: 0.9462 - val_loss: 0.1473 - val_accuracy: 0.8280\n",
      "Epoch 49/100\n",
      "5/5 [==============================] - 6s 1s/step - loss: 0.0835 - accuracy: 0.9444 - val_loss: 0.1481 - val_accuracy: 0.8280\n",
      "Epoch 50/100\n",
      "5/5 [==============================] - 6s 1s/step - loss: 0.0856 - accuracy: 0.9345 - val_loss: 0.1423 - val_accuracy: 0.8344\n",
      "Epoch 51/100\n",
      "5/5 [==============================] - 7s 1s/step - loss: 0.0771 - accuracy: 0.9438 - val_loss: 0.1428 - val_accuracy: 0.8344\n",
      "Epoch 52/100\n",
      "5/5 [==============================] - 6s 1s/step - loss: 0.0780 - accuracy: 0.9466 - val_loss: 0.1454 - val_accuracy: 0.8408\n",
      "Epoch 53/100\n",
      "5/5 [==============================] - 6s 1s/step - loss: 0.0754 - accuracy: 0.9437 - val_loss: 0.1407 - val_accuracy: 0.8280\n",
      "Epoch 54/100\n",
      "5/5 [==============================] - 6s 1s/step - loss: 0.0756 - accuracy: 0.9386 - val_loss: 0.1458 - val_accuracy: 0.8089\n",
      "Epoch 55/100\n",
      "5/5 [==============================] - 5s 1s/step - loss: 0.0705 - accuracy: 0.9526 - val_loss: 0.1364 - val_accuracy: 0.8408\n",
      "Epoch 56/100\n",
      "5/5 [==============================] - 5s 1s/step - loss: 0.0751 - accuracy: 0.9391 - val_loss: 0.1546 - val_accuracy: 0.8217\n",
      "Epoch 57/100\n",
      "5/5 [==============================] - 7s 2s/step - loss: 0.0797 - accuracy: 0.9296 - val_loss: 0.1441 - val_accuracy: 0.8217\n",
      "Epoch 58/100\n",
      "5/5 [==============================] - 6s 1s/step - loss: 0.0693 - accuracy: 0.9461 - val_loss: 0.1394 - val_accuracy: 0.8025\n",
      "Epoch 59/100\n",
      "5/5 [==============================] - 7s 1s/step - loss: 0.0697 - accuracy: 0.9437 - val_loss: 0.1367 - val_accuracy: 0.8153\n",
      "Epoch 60/100\n",
      "5/5 [==============================] - 7s 2s/step - loss: 0.0602 - accuracy: 0.9539 - val_loss: 0.1323 - val_accuracy: 0.8344\n",
      "Epoch 61/100\n",
      "5/5 [==============================] - 12s 2s/step - loss: 0.0627 - accuracy: 0.9508 - val_loss: 0.1308 - val_accuracy: 0.8471\n",
      "Epoch 62/100\n",
      "5/5 [==============================] - 9s 2s/step - loss: 0.0667 - accuracy: 0.9376 - val_loss: 0.1323 - val_accuracy: 0.8408\n",
      "Epoch 63/100\n",
      "5/5 [==============================] - 11s 2s/step - loss: 0.0585 - accuracy: 0.9540 - val_loss: 0.1362 - val_accuracy: 0.8153\n",
      "Epoch 64/100\n",
      "5/5 [==============================] - 11s 2s/step - loss: 0.0622 - accuracy: 0.9498 - val_loss: 0.1382 - val_accuracy: 0.8599\n",
      "Epoch 65/100\n",
      "5/5 [==============================] - 11s 2s/step - loss: 0.0562 - accuracy: 0.9540 - val_loss: 0.1351 - val_accuracy: 0.8344\n",
      "Epoch 66/100\n",
      "5/5 [==============================] - 11s 2s/step - loss: 0.0574 - accuracy: 0.9557 - val_loss: 0.1318 - val_accuracy: 0.8599\n",
      "Epoch 67/100\n",
      "5/5 [==============================] - 12s 2s/step - loss: 0.0582 - accuracy: 0.9538 - val_loss: 0.1388 - val_accuracy: 0.8025\n",
      "Epoch 68/100\n",
      "5/5 [==============================] - 12s 3s/step - loss: 0.0513 - accuracy: 0.9632 - val_loss: 0.1295 - val_accuracy: 0.8599\n",
      "Epoch 69/100\n",
      "5/5 [==============================] - 13s 2s/step - loss: 0.0495 - accuracy: 0.9574 - val_loss: 0.1318 - val_accuracy: 0.8599\n",
      "Epoch 70/100\n",
      "5/5 [==============================] - 10s 2s/step - loss: 0.0488 - accuracy: 0.9636 - val_loss: 0.1303 - val_accuracy: 0.8599\n",
      "Epoch 71/100\n",
      "5/5 [==============================] - 12s 2s/step - loss: 0.0444 - accuracy: 0.9671 - val_loss: 0.1291 - val_accuracy: 0.8471\n",
      "Epoch 72/100\n",
      "5/5 [==============================] - 9s 2s/step - loss: 0.0486 - accuracy: 0.9530 - val_loss: 0.1300 - val_accuracy: 0.8535\n",
      "Epoch 73/100\n",
      "5/5 [==============================] - 13s 3s/step - loss: 0.0472 - accuracy: 0.9567 - val_loss: 0.1299 - val_accuracy: 0.8535\n",
      "Epoch 74/100\n",
      "5/5 [==============================] - 10s 2s/step - loss: 0.0463 - accuracy: 0.9616 - val_loss: 0.1303 - val_accuracy: 0.8535\n",
      "Epoch 75/100\n",
      "5/5 [==============================] - 10s 2s/step - loss: 0.0482 - accuracy: 0.9559 - val_loss: 0.1276 - val_accuracy: 0.8599\n",
      "Epoch 76/100\n",
      "5/5 [==============================] - 6s 1s/step - loss: 0.0402 - accuracy: 0.9631 - val_loss: 0.1340 - val_accuracy: 0.8471\n",
      "Epoch 77/100\n",
      "5/5 [==============================] - 5s 930ms/step - loss: 0.0487 - accuracy: 0.9548 - val_loss: 0.1358 - val_accuracy: 0.8599\n",
      "Epoch 78/100\n",
      "5/5 [==============================] - 5s 1s/step - loss: 0.0470 - accuracy: 0.9578 - val_loss: 0.1457 - val_accuracy: 0.8471\n",
      "Epoch 79/100\n",
      "5/5 [==============================] - 7s 1s/step - loss: 0.0492 - accuracy: 0.9535 - val_loss: 0.1516 - val_accuracy: 0.8153\n",
      "Epoch 80/100\n",
      "5/5 [==============================] - 5s 968ms/step - loss: 0.0484 - accuracy: 0.9588 - val_loss: 0.1444 - val_accuracy: 0.8535\n",
      "Epoch 81/100\n",
      "5/5 [==============================] - 4s 926ms/step - loss: 0.0485 - accuracy: 0.9560 - val_loss: 0.1410 - val_accuracy: 0.8408\n",
      "Epoch 82/100\n",
      "5/5 [==============================] - 5s 913ms/step - loss: 0.0386 - accuracy: 0.9756 - val_loss: 0.1390 - val_accuracy: 0.8471\n",
      "Epoch 83/100\n",
      "5/5 [==============================] - 5s 997ms/step - loss: 0.0427 - accuracy: 0.9704 - val_loss: 0.1383 - val_accuracy: 0.8471\n",
      "Epoch 84/100\n",
      "5/5 [==============================] - 5s 1s/step - loss: 0.0401 - accuracy: 0.9663 - val_loss: 0.1400 - val_accuracy: 0.8471\n",
      "Epoch 85/100\n",
      "5/5 [==============================] - 5s 1s/step - loss: 0.0376 - accuracy: 0.9705 - val_loss: 0.1442 - val_accuracy: 0.8535\n",
      "Epoch 86/100\n",
      "5/5 [==============================] - 5s 1s/step - loss: 0.0454 - accuracy: 0.9635 - val_loss: 0.1412 - val_accuracy: 0.8280\n",
      "Epoch 87/100\n",
      "5/5 [==============================] - 4s 906ms/step - loss: 0.0467 - accuracy: 0.9611 - val_loss: 0.1357 - val_accuracy: 0.8344\n",
      "Epoch 88/100\n",
      "5/5 [==============================] - 5s 933ms/step - loss: 0.0424 - accuracy: 0.9653 - val_loss: 0.1432 - val_accuracy: 0.8408\n",
      "Epoch 89/100\n",
      "5/5 [==============================] - 5s 1s/step - loss: 0.0409 - accuracy: 0.9635 - val_loss: 0.1299 - val_accuracy: 0.8408\n",
      "Epoch 90/100\n",
      "5/5 [==============================] - 7s 1s/step - loss: 0.0354 - accuracy: 0.9762 - val_loss: 0.1292 - val_accuracy: 0.8535\n",
      "Epoch 91/100\n",
      "5/5 [==============================] - 5s 983ms/step - loss: 0.0357 - accuracy: 0.9730 - val_loss: 0.1296 - val_accuracy: 0.8535\n",
      "Epoch 92/100\n",
      "5/5 [==============================] - 6s 1s/step - loss: 0.0375 - accuracy: 0.9688 - val_loss: 0.1324 - val_accuracy: 0.8535\n",
      "Epoch 93/100\n",
      "5/5 [==============================] - 4s 861ms/step - loss: 0.0372 - accuracy: 0.9693 - val_loss: 0.1283 - val_accuracy: 0.8599\n",
      "Epoch 94/100\n",
      "5/5 [==============================] - 5s 1s/step - loss: 0.0337 - accuracy: 0.9695 - val_loss: 0.1425 - val_accuracy: 0.8599\n",
      "Epoch 95/100\n",
      "5/5 [==============================] - 5s 961ms/step - loss: 0.0300 - accuracy: 0.9768 - val_loss: 0.1355 - val_accuracy: 0.8599\n",
      "Epoch 96/100\n",
      "5/5 [==============================] - 6s 1s/step - loss: 0.0324 - accuracy: 0.9781 - val_loss: 0.1417 - val_accuracy: 0.8535\n",
      "Epoch 97/100\n",
      "5/5 [==============================] - 6s 1s/step - loss: 0.0324 - accuracy: 0.9726 - val_loss: 0.1458 - val_accuracy: 0.8471\n",
      "Epoch 98/100\n",
      "5/5 [==============================] - 6s 1s/step - loss: 0.0301 - accuracy: 0.9748 - val_loss: 0.1460 - val_accuracy: 0.8535\n",
      "Epoch 99/100\n",
      "5/5 [==============================] - 8s 2s/step - loss: 0.0290 - accuracy: 0.9828 - val_loss: 0.1509 - val_accuracy: 0.8471\n",
      "Epoch 100/100\n",
      "5/5 [==============================] - 8s 1s/step - loss: 0.0263 - accuracy: 0.9828 - val_loss: 0.1462 - val_accuracy: 0.8471\n",
      "--- 589.6846594810486 seconds ---\n"
     ]
    }
   ],
   "source": [
    "print('Training model...')\n",
    "import time\n",
    "start_time = time.time()\n",
    "r = model.fit(\n",
    "    X_train,y_train,\n",
    "    batch_size=BATCH_SIZE,\n",
    "    epochs=EPOCHS,\n",
    "    validation_data=(X_test, y_test)\n",
    ")\n",
    "print(\"--- %s seconds ---\" % (time.time() - start_time))"
   ]
  },
  {
   "cell_type": "code",
   "execution_count": 50,
   "metadata": {},
   "outputs": [
    {
     "data": {
      "image/png": "[encoded data removed]",
      "text/plain": [
       "<Figure size 432x288 with 1 Axes>"
      ]
     },
     "metadata": {
      "needs_background": "light"
     },
     "output_type": "display_data"
    }
   ],
   "source": [
    "plt.plot(r.history['loss'], label='loss')\n",
    "plt.plot(r.history['val_loss'], label='val_loss')\n",
    "plt.legend()\n",
    "plt.show()"
   ]
  },
  {
   "cell_type": "code",
   "execution_count": 51,
   "metadata": {},
   "outputs": [
    {
     "data": {
      "image/png": "[encoded data removed]",
      "text/plain": [
       "<Figure size 432x288 with 1 Axes>"
      ]
     },
     "metadata": {
      "needs_background": "light"
     },
     "output_type": "display_data"
    }
   ],
   "source": [
    "plt.plot(r.history['accuracy'], label='acc')\n",
    "plt.plot(r.history['val_accuracy'], label='val_acc')\n",
    "plt.legend()\n",
    "plt.show()"
   ]
  },
  {
   "cell_type": "code",
   "execution_count": 52,
   "metadata": {},
   "outputs": [
    {
     "name": "stdout",
     "output_type": "stream",
     "text": [
      "0.9664023197632124\n"
     ]
    }
   ],
   "source": [
    "p = model.predict(data)\n",
    "aucs = []\n",
    "for j in range(6):\n",
    "    auc = roc_auc_score(targets[:,j], p[:,j])\n",
    "    aucs.append(auc)\n",
    "print(np.mean(aucs))"
   ]
  },
  {
   "cell_type": "code",
   "execution_count": 53,
   "metadata": {},
   "outputs": [],
   "source": [
    "from sklearn.metrics import classification_report,confusion_matrix\n",
    "from sklearn.preprocessing import MultiLabelBinarizer"
   ]
  },
  {
   "cell_type": "code",
   "execution_count": 54,
   "metadata": {},
   "outputs": [
    {
     "name": "stdout",
     "output_type": "stream",
     "text": [
      "--- 1.5018839836120605 seconds ---\n"
     ]
    }
   ],
   "source": [
    "import time\n",
    "start_time = time.time()\n",
    "probability = model.predict(X_test)\n",
    "print(\"--- %s seconds ---\" % (time.time() - start_time))"
   ]
  },
  {
   "cell_type": "code",
   "execution_count": 55,
   "metadata": {},
   "outputs": [],
   "source": [
    "thresh = 0.5\n",
    "predictions = np.array([[1 if i > thresh else 0 for i in j] for j in probability])"
   ]
  },
  {
   "cell_type": "code",
   "execution_count": 56,
   "metadata": {},
   "outputs": [
    {
     "name": "stdout",
     "output_type": "stream",
     "text": [
      "              precision    recall  f1-score   support\n",
      "\n",
      "           0       0.00      0.00      0.00         0\n",
      "           1       0.00      0.00      0.00         0\n",
      "           2       0.00      0.00      0.00         4\n",
      "           3       0.98      0.96      0.97        49\n",
      "           4       0.87      0.63      0.73        41\n",
      "           5       0.00      0.00      0.00         2\n",
      "           6       0.78      0.85      0.81        61\n",
      "\n",
      "   micro avg       0.86      0.80      0.83       157\n",
      "   macro avg       0.37      0.35      0.36       157\n",
      "weighted avg       0.83      0.80      0.81       157\n",
      " samples avg       0.80      0.80      0.80       157\n",
      "\n"
     ]
    }
   ],
   "source": [
    "print(classification_report(y_test,predictions))"
   ]
  },
  {
   "cell_type": "code",
   "execution_count": null,
   "metadata": {},
   "outputs": [],
   "source": []
  }
 ],
 "metadata": {
  "kernelspec": {
   "display_name": "Python 3",
   "language": "python",
   "name": "python3"
  },
  "language_info": {
   "codemirror_mode": {
    "name": "ipython",
    "version": 3
   },
   "file_extension": ".py",
   "mimetype": "text/x-python",
   "name": "python",
   "nbconvert_exporter": "python",
   "pygments_lexer": "ipython3",
   "version": "3.8.5"
  }
 },
 "nbformat": 4,
 "nbformat_minor": 4
}
